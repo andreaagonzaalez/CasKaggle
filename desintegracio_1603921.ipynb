{
  "nbformat": 4,
  "nbformat_minor": 0,
  "metadata": {
    "colab": {
      "provenance": [],
      "authorship_tag": "ABX9TyNO/l3Gsodg/ON/CEz935nm",
      "include_colab_link": true
    },
    "kernelspec": {
      "name": "python3",
      "display_name": "Python 3"
    },
    "language_info": {
      "name": "python"
    }
  },
  "cells": [
    {
      "cell_type": "markdown",
      "metadata": {
        "id": "view-in-github",
        "colab_type": "text"
      },
      "source": [
        "<a href=\"https://colab.research.google.com/github/andreaagonzaalez/ModelitzacioEntregues2024/blob/main/desintegracio_1603921.ipynb\" target=\"_parent\"><img src=\"https://colab.research.google.com/assets/colab-badge.svg\" alt=\"Open In Colab\"/></a>"
      ]
    },
    {
      "cell_type": "markdown",
      "source": [
        "*Andrea Gonzàlez \\\\\n",
        "1603921 \\\\\n",
        "MatCAD*"
      ],
      "metadata": {
        "id": "qU0kV7fgVZSf"
      }
    },
    {
      "cell_type": "markdown",
      "source": [
        "#**1. DESINTEGRACIÓ DE SUBSTÀNCIES**"
      ],
      "metadata": {
        "id": "VeFi-gGwhRez"
      }
    },
    {
      "cell_type": "code",
      "source": [
        "import numpy as np\n",
        "import pandas as pd\n",
        "import scipy\n",
        "from scipy import stats\n",
        "import matplotlib.pyplot as plt\n",
        "from IPython.display import Math, display\n",
        "import sympy as sp\n",
        "from sympy.physics.units.systems import SI\n",
        "from sympy.physics.units import meter, second, liter, hour, degree, convert_to\n",
        "from sympy import sin, cos, pi, Abs\n",
        "\n",
        "sp.init_printing()\n",
        "\n",
        "def show(*args):\n",
        "    out = \"\"\n",
        "    for arg in args:\n",
        "        if isinstance(arg, (sp.Expr, sp.Eq)):\n",
        "            arg = sp.latex(arg)\n",
        "        else:\n",
        "            arg = str(arg)\n",
        "        out += arg\n",
        "    display(Math(out))\n",
        "\n",
        "qq = \"\\quad \""
      ],
      "metadata": {
        "id": "RMoJ5wQEhVzd"
      },
      "execution_count": 1,
      "outputs": []
    },
    {
      "cell_type": "markdown",
      "source": [
        "###Tenim una substància radioactiva A que es desintegra en una altra substància radioactiva B.\n",
        "\n",
        "\n",
        "\n",
        "* La taxa de desintegració de cada àtom és constant\n",
        "* La vida mitjana és el temps que passa fins que la quantitat d'àtoms d’un conjunt aïllat es redueix a la meitat.\n",
        "* La vida mitjana d’ A es 66h i la de B és 6h\n",
        "* Cada dia es vol extreure una mostra de B que tingui una activitat de 7 x10⁹ desintegracions per segon."
      ],
      "metadata": {
        "id": "x3eefkmzhecN"
      }
    },
    {
      "cell_type": "markdown",
      "source": [
        "###1.1 ANÀLISI DELS ELEMENTS DEL SISTEMA\n",
        "* Paràmetres -> Substància A\n",
        "  - Quantitat atoms: $n_A$\n",
        "  - Vida mitjana: $t_{1/2,A} = 66$h\n",
        "  - Quantitat inicial atoms: $A_0$\n",
        "  - Activitat radioactiva: $Q_A$\n",
        "\n",
        "* Paràmetres -> Substància B\n",
        "  - Quantitat atoms: $n_B$\n",
        "  - Vida mitjana: $t_{1/2,B} = 6$h\n",
        "  - Quantitat inicial atoms: $B_0$\n",
        "  - Activitat radioactiva: $Q_B$"
      ],
      "metadata": {
        "id": "q_esmSNVh09a"
      }
    },
    {
      "cell_type": "markdown",
      "source": [
        "###1.2 ASSUMPCIONS\n",
        "\n",
        "Per tal de simplificar el sistema i acotar e seu àmbit, fem les següents assumpcions:\n",
        "* La taxa de desintegració és constant en ambdos àtoms\n",
        "* Les extraccions les fem en igualtat de condicions, a la mateixa hora\n",
        "* L'activitat de desintegració és constant\n",
        "* Les substàncies no es desintegren en altres substàncies\n",
        "* La desintegració no causa cap altra substància o gas que pugui alterar les condicions inicials (constants) de l'estudi.\n",
        "* La desintegració de les substàncies formen un cicle, A es desintegra en B i B es desintegra en A; sinó hi hauria un punt on no tindriem substància A\n",
        "* El nombre d'àtoms d'A i B són constants. La unitat d'àtoms que es desintegren d'A quival a la quantitat d'àtoms que es desintegren de B."
      ],
      "metadata": {
        "id": "wPPRhDc1j7K9"
      }
    },
    {
      "cell_type": "markdown",
      "source": [
        "###1.3 CONDICIONS INICIALS\n",
        "$$\n",
        "\\begin{aligned}\n",
        "n_A(t_{1/2, A} = 66h) = A_0 / 2 \\\\\n",
        "n_B(t_{1/2, B} = 6h) = B_0 / 2\n",
        "\\end{aligned}\n",
        "$$"
      ],
      "metadata": {
        "id": "Gv6lHzk9reAx"
      }
    },
    {
      "cell_type": "markdown",
      "source": [
        "###1.4 COMPORTAMENT DEL SISTEMA\n",
        "La variació de la quantitat d'àtoms d'A i B, depèn de la quantitat d'àtoms presents.\n",
        "\n",
        "$$\n",
        "\\begin{aligned}\n",
        "\\Delta n_A = k_a * n_A \\\\\n",
        "\\Delta n_B = k_b * n_B\n",
        "\\end{aligned}\n",
        "$$\n",
        "\n",
        "  * $k_a$ i $k_b$, son constants de proporcionalitat"
      ],
      "metadata": {
        "id": "6N-oDsHgk1pC"
      }
    },
    {
      "cell_type": "markdown",
      "source": [
        "Aquesta expressió equival a:\n",
        "$$\n",
        "\\begin{aligned}\n",
        "n_A'(t) = k_a * n_A(t) \\\\\n",
        "n_B'(t) = k_b * n_B(t)\n",
        "\\end{aligned}\n",
        "$$"
      ],
      "metadata": {
        "id": "rJVXar9Tni8Q"
      }
    },
    {
      "cell_type": "markdown",
      "source": [
        "A demés, sabem que l'activitat de desintegració és equivalent a la variació d'àtoms, però amb el signe invers:\n",
        "Aquesta expressió equival a:\n",
        "$$\n",
        "\\begin{aligned}\n",
        "-Q_A(t) = n_A'(t) = k_a * n_A(t) \\\\\n",
        "-Q_B(t) = n_B'(t) = k_b * n_B(t)\n",
        "\\end{aligned}\n",
        "$$"
      ],
      "metadata": {
        "id": "x7jyyEpYnkNb"
      }
    },
    {
      "cell_type": "markdown",
      "source": [
        "De l'assumpció \"El nombre d'àtoms d'A i B són constants\", obtenim les següents igualtats:\n",
        "\n",
        "$$\n",
        "\\begin{aligned}\n",
        "\\Delta n_A = \\Delta n_B \\\\\n",
        "n_A'(t) = n_B'(t) \\\\\n",
        "Q_A(t) = Q_B(t)\n",
        "\\end{aligned}\n",
        "$$"
      ],
      "metadata": {
        "id": "0TjFp1mCoFgo"
      }
    },
    {
      "cell_type": "markdown",
      "source": [
        "###1.5 MODELITZACIÓ\n"
      ],
      "metadata": {
        "id": "vOtMgS81oyFg"
      }
    },
    {
      "cell_type": "code",
      "source": [
        "# Define symbols\n",
        "t, A0, k_a = sp.symbols('t A0 k_a', real=True)\n",
        "n_a = sp.Function('n_a')(t)\n",
        "\n",
        "# Define the derivative\n",
        "n_a_prime = n_a.diff(t)\n",
        "\n",
        "# Define the equation\n",
        "eq = sp.Eq(n_a_prime, k_a * n_a)\n",
        "\n",
        "# Define initial condition\n",
        "ics = {n_a.subs(t, 0): A0}\n",
        "\n",
        "# Solve the ODE\n",
        "sol = sp.dsolve(eq, n_a, ics=ics)\n",
        "n_a_t = sol.rhs\n",
        "\n",
        "# Print the solution\n",
        "sp.pprint(n_a_t)"
      ],
      "metadata": {
        "colab": {
          "base_uri": "https://localhost:8080/"
        },
        "id": "zmisqTQhnjhO",
        "outputId": "30d02fb4-a79c-4cf1-9137-2c13eaf3d40a"
      },
      "execution_count": 2,
      "outputs": [
        {
          "output_type": "stream",
          "name": "stdout",
          "text": [
            "    kₐ⋅t\n",
            "A₀⋅ℯ    \n"
          ]
        }
      ]
    },
    {
      "cell_type": "code",
      "source": [
        "# Define symbols\n",
        "t, B0, k_b = sp.symbols('t B0 k_b', real=True)\n",
        "n_b = sp.Function('n_b')(t)\n",
        "\n",
        "# Define the derivative\n",
        "n_b_prime = n_b.diff(t)\n",
        "\n",
        "# Define the equation\n",
        "eq = sp.Eq(n_b_prime, k_b * n_b)\n",
        "\n",
        "# Define initial condition\n",
        "ics = {n_b.subs(t, 0): B0}\n",
        "\n",
        "# Solve the ODE\n",
        "sol = sp.dsolve(eq, n_b, ics=ics)\n",
        "n_b_t = sol.rhs\n",
        "\n",
        "# Print the solution\n",
        "sp.pprint(n_b_t)"
      ],
      "metadata": {
        "colab": {
          "base_uri": "https://localhost:8080/"
        },
        "id": "2Qj6GXUnpS2u",
        "outputId": "9df84e0d-1074-4f35-d409-c10767e34996"
      },
      "execution_count": 3,
      "outputs": [
        {
          "output_type": "stream",
          "name": "stdout",
          "text": [
            "    k_b⋅t\n",
            "B₀⋅ℯ     \n"
          ]
        }
      ]
    },
    {
      "cell_type": "markdown",
      "source": [
        "De les condicions inicials mencionades, podem trobar els valors de $k_a$ i $k_b$"
      ],
      "metadata": {
        "id": "RlgXpSSHrJLu"
      }
    },
    {
      "cell_type": "markdown",
      "source": [
        "####Trobem $k_a$\n",
        "$$\n",
        "\\begin{aligned}\n",
        "n_a(66) = A_0 \\cdot e^{k_a \\cdot 66} = \\frac{A_0}{2}\n",
        "\\end{aligned}\n",
        "$$\n",
        "\n",
        "Resolem l'equació:\n",
        "$$\n",
        "\\begin{aligned}\n",
        "A_0 \\cdot e^{k_a \\cdot 66} = \\frac{A_0}{2} \\\\\n",
        "e^{k_a \\cdot 66} = \\frac{1}{2} \\\\\n",
        "k_a = \\ln\\left(\\frac{1}{2}\\right) / 66 \\\\\n",
        "k_a = -\\frac{\\ln(2)}{66}\\end{aligned}\n",
        "$$"
      ],
      "metadata": {
        "id": "JZ8D5k2HwE4C"
      }
    },
    {
      "cell_type": "markdown",
      "source": [
        "####Trobem $k_b$\n",
        "$$\n",
        "\\begin{aligned}\n",
        "n_b(66) = B_0 \\cdot e^{k_b \\cdot 6} = \\frac{B_0}{2}\n",
        "\\end{aligned}\n",
        "$$\n",
        "\n",
        "Resolem l'equació:\n",
        "$$\n",
        "\\begin{aligned}\n",
        "B_0 \\cdot e^{k_b \\cdot 66} = \\frac{B_0}{2} \\\\\n",
        "e^{k_b \\cdot 6} = \\frac{1}{2} \\\\\n",
        "k_b = \\ln\\left(\\frac{1}{2}\\right) / 6 \\\\\n",
        "k_b = -\\frac{\\ln(2)}{6}\\end{aligned}\n",
        "$$"
      ],
      "metadata": {
        "id": "4kHGL5OowKQl"
      }
    },
    {
      "cell_type": "markdown",
      "source": [
        "$k_a = -\\frac{\\ln(2)}{66}  h^{-1} = -\\frac{\\ln(2)}{66*360} s^{-1}$\n",
        "\n",
        "$k_b = -\\frac{\\ln(2)}{6}  h^{-1} = -\\frac{\\ln(2)}{6*360} s^{-1}$"
      ],
      "metadata": {
        "id": "KxmE1kIpwtm6"
      }
    },
    {
      "cell_type": "markdown",
      "source": [
        "###1.6 ANÀLISI DIMENSIONAL\n",
        "\n",
        "$$\n",
        "\\begin{align}\n",
        "n_i(t) = i_0 \\cdot e^{k_i \\cdot t} = \\frac{i_0}{2}$\n",
        "\\end{align}\n",
        "$$\n",
        "\n",
        "Així doncs, l'exponent de $e$ ha de ser adimensional, per tant:\n",
        "$$\n",
        "\\begin{align}\n",
        "[e^{k_i * t}] = [1] → [k_i*t] = [1]\n",
        "\\end{align}\n",
        "$$\n",
        "\n",
        "I sabem que $i_0$ té unitats d'àtoms. \\\\\n",
        "Per altra banda, comprovem:\n",
        "$$\n",
        "\\begin{align}\n",
        "n_i'(t) = -Q_i(t) = k_i * n_i(t)\n",
        "\\end{align}\n",
        "$$\n",
        "Com ja sabem:\n",
        "- $[k_i] = [T^{-1}]$\n",
        "- $[n_i(t)] = [àtoms]$\n",
        "\n",
        "Així doncs, les dimensions de $Q_i(t)$ i $n_i'(t)$ han de ser $[\"àtoms\" * T^{-1}]$ \\\\\n",
        "Aquest fet, ja el sabiem, ja que com ens diuen a l'enunciat, l'activitat de l'àtom es medeix en àtoms desintegrats per segon.\n",
        "\n",
        "\n"
      ],
      "metadata": {
        "id": "jXckTFPmxOVK"
      }
    },
    {
      "cell_type": "markdown",
      "source": [
        "##*PREGUNTES*\n",
        "* Quants àtoms de A necessitem per poder fer extraccions durant una setmana?\n",
        "  - L'activitat de B, depèn de la quantitat d'àtoms de B i ambdues són constants (com s'ha esmentat a les suposicions).\n",
        "  - Per tant, si l'activitat de desintegració de B, és de $7\\cdot 10^{9}$, al llarg d'una setmana serà $7\\cdot 10^{9} * 1 * 7 * 24 * 60 * 60$. Això equival als àtoms en una setmana, que s'hauran de \"compensar\", ja que són els àtoms de B que es desintegraran. Aquest nombre haurà de ser igual al nombre d'àtoms que necessitem d'A.\n",
        "\n",
        "  La quantitat d'àtoms d'A que necessitem son $4.2\\cdot 10^{15}$ àtoms, per poder fer extraccions al llarg d'una setmana.\n",
        "\n",
        "* Quanta activitat (desintegracions per segon) tindrem de A?\n",
        "  - Com ja sabem, el flux d'àtoms és constant, és a dir l'activitat d'A ha de ser igual a l'activitat de B.\n",
        "  Per tant:\n",
        "  $$\n",
        "  \\begin{equation}\n",
        "  Q_A(t) = Q_B(t) \\\\\n",
        "  Q_A(t) = 7 \\cdot 10^{9}\n",
        "  \\end{equation}\n",
        "  $$\n",
        "\n",
        "  Així doncs, l'activitat d'A, és de $7\\cdot 10^9$ desintegracions per segon."
      ],
      "metadata": {
        "id": "jHhGDUhLx7zY"
      }
    }
  ]
}
