{
  "nbformat": 4,
  "nbformat_minor": 0,
  "metadata": {
    "colab": {
      "provenance": [],
      "authorship_tag": "ABX9TyPECpm/KIzDnYAv2mXOwx56",
      "include_colab_link": true
    },
    "kernelspec": {
      "name": "python3",
      "display_name": "Python 3"
    },
    "language_info": {
      "name": "python"
    }
  },
  "cells": [
    {
      "cell_type": "markdown",
      "metadata": {
        "id": "view-in-github",
        "colab_type": "text"
      },
      "source": [
        "<a href=\"https://colab.research.google.com/github/andreaagonzaalez/ModelitzacioEntregues2024/blob/main/sociolegs_1603921.ipynb\" target=\"_parent\"><img src=\"https://colab.research.google.com/assets/colab-badge.svg\" alt=\"Open In Colab\"/></a>"
      ]
    },
    {
      "cell_type": "markdown",
      "source": [
        "*Andrea Gonzàlez \\\\\n",
        "1603921 \\\\\n",
        "MatCAD*"
      ],
      "metadata": {
        "id": "ZMPRdxJRVmKN"
      }
    },
    {
      "cell_type": "markdown",
      "source": [
        "#**2. DIFUSIÓ SOCIAL**"
      ],
      "metadata": {
        "id": "VeFi-gGwhRez"
      }
    },
    {
      "cell_type": "code",
      "source": [
        "import numpy as np\n",
        "import pandas as pd\n",
        "import scipy\n",
        "from scipy import stats\n",
        "import matplotlib.pyplot as plt\n",
        "from IPython.display import Math, display\n",
        "import sympy as sp\n",
        "from sympy.physics.units.systems import SI\n",
        "from sympy.physics.units import meter, second, liter, hour, degree, convert_to\n",
        "from sympy import sin, cos, pi, Abs\n",
        "\n",
        "sp.init_printing()\n",
        "\n",
        "def show(*args):\n",
        "    out = \"\"\n",
        "    for arg in args:\n",
        "        if isinstance(arg, (sp.Expr, sp.Eq)):\n",
        "            arg = sp.latex(arg)\n",
        "        else:\n",
        "            arg = str(arg)\n",
        "        out += arg\n",
        "    display(Math(out))\n",
        "\n",
        "qq = \"\\quad \""
      ],
      "metadata": {
        "id": "RMoJ5wQEhVzd"
      },
      "execution_count": 1,
      "outputs": []
    },
    {
      "cell_type": "markdown",
      "source": [
        "###Els sociòlegs estudien un fenomen anomenat «difusió social» que consisteix en la difusió d’una informació, innovació o novetat cultural.\n",
        "* Els individus d’una població es poden dividir entre els que la coneixen i els que no.\n"
      ],
      "metadata": {
        "id": "x3eefkmzhecN"
      }
    },
    {
      "cell_type": "markdown",
      "source": [
        "###2.1 ANÀLISI DELS ELEMENTS DEL SISTEMA\n",
        "* Paràmetres\n",
        "  - Mida de la població:$N$\n",
        "  - Individus coneixedors de la informació: $C(t)$\n",
        "  - Individus no coneixedors de la informació: $NC(t)$.\n",
        "\n",
        "$C(t)$ i $NC(t)$ depenen del temps"
      ],
      "metadata": {
        "id": "q_esmSNVh09a"
      }
    },
    {
      "cell_type": "markdown",
      "source": [
        "###2.2 ASSUMPCIONS\n",
        "\n",
        "Per tal de simplificar el sistema i acotar el seu àmbit, fem les següents assumpcions:\n",
        "* A una població de grandària coneguda, és raonable assumir que la taxa de difusió és proporcional al nombre de persones que coneixen la informació i de les persones que encara no.\n",
        "* La població està tancada, serà constant i aquesta serà igual a $N$.\n",
        "* No hi ha factors externs que intervinguin, la informació arriba als no coneixedors de manera asegurada.\n",
        "* No hi ha interferències, no es produeixen \"fake news\".\n",
        "* La població, un cop coneix la informació no l'oblida.\n",
        "* El total de la població, està format per la suma: $NC(t) + C(t) = N$"
      ],
      "metadata": {
        "id": "wPPRhDc1j7K9"
      }
    },
    {
      "cell_type": "markdown",
      "source": [
        "###2.3 CONDICIONS INICIALS\n",
        "La població coneixedora de la informació inicialment la denotem com: $C_0$"
      ],
      "metadata": {
        "id": "Gv6lHzk9reAx"
      }
    },
    {
      "cell_type": "markdown",
      "source": [
        "###2.4 COMPORTAMENT DEL SISTEMA\n",
        "De l'enunciat sabem que la taxa de difusió és proporcional al nombre de persones que coneixen la informació i de les persones que encara no. Per tant:\n",
        "\n",
        "$$\n",
        "\\begin{aligned}\n",
        "C'(t) = k * C(t) * NC(t)\n",
        "\\end{aligned}\n",
        "$$\n",
        "\n",
        "  * $k$, és la constant de proporcionalitat"
      ],
      "metadata": {
        "id": "6N-oDsHgk1pC"
      }
    },
    {
      "cell_type": "markdown",
      "source": [
        "Aquesta expressió equival a:\n",
        "$$\n",
        "\\begin{aligned}\n",
        "C'(t) = k * C(t) * [N - C(t)]\n",
        "\\end{aligned}\n",
        "$$"
      ],
      "metadata": {
        "id": "rJVXar9Tni8Q"
      }
    },
    {
      "cell_type": "markdown",
      "source": [
        "###2.5 MODELITZACIÓ\n"
      ],
      "metadata": {
        "id": "vOtMgS81oyFg"
      }
    },
    {
      "cell_type": "code",
      "source": [
        "# Define symbols\n",
        "t, C0, k, N = sp.symbols('t C0 k N', real=True)\n",
        "C = sp.Function('C')(t)\n",
        "\n",
        "# Define the derivative\n",
        "C_prime = C.diff(t)\n",
        "\n",
        "# Define the equation\n",
        "eq = sp.Eq(C_prime, k * C * (N - C))\n",
        "\n",
        "# Define initial condition\n",
        "ics = {C.subs(t, 0): C0}\n",
        "\n",
        "# Solve the ODE\n",
        "sol = sp.dsolve(eq, C, ics=ics)\n",
        "C_t = sol.rhs\n",
        "\n",
        "# Simplify the solution\n",
        "C_t_simplified = sp.simplify(C_t)\n",
        "\n",
        "# Print the simplified solution\n",
        "sp.pprint(C_t_simplified)"
      ],
      "metadata": {
        "colab": {
          "base_uri": "https://localhost:8080/"
        },
        "id": "zmisqTQhnjhO",
        "outputId": "2cd93890-92f8-467a-9c75-a781324507af"
      },
      "execution_count": 14,
      "outputs": [
        {
          "output_type": "stream",
          "name": "stdout",
          "text": [
            "         N⋅k⋅t    \n",
            "   C₀⋅N⋅ℯ         \n",
            "──────────────────\n",
            "    N⋅k⋅t         \n",
            "C₀⋅ℯ      - C₀ + N\n"
          ]
        }
      ]
    },
    {
      "cell_type": "markdown",
      "source": [
        "Aquesta equació és equivalent a:\n",
        "$$\n",
        "\\begin{align}\n",
        "C(t)= \\frac{N}{1+A*e^{-N*k*t}}\n",
        "\\end{align}\n",
        "$$"
      ],
      "metadata": {
        "id": "CA2Do6DKLC7L"
      }
    },
    {
      "cell_type": "markdown",
      "source": [
        "####Trobem $A$\n",
        "De la condició inicial sabem que $C(0) = C_0$\n",
        "$$\n",
        "\\begin{align}\n",
        "C(t)= \\frac{N}{1+A*e^{-N*k*t}}\n",
        "\\end{align}\n",
        "$$\n",
        "\n",
        "Resolem l'equació:\n",
        "$$\n",
        "\\begin{aligned}\n",
        "C(0)=& \\frac{N}{1+A*e^{-N*k*0}} = C_0 \\\\\n",
        "& \\frac{N}{1+A} = C_0 \\\\\n",
        "& \\frac{N}{C_0} = A \\\\\n",
        "& \\frac{N - C_0}{C_0} = A\n",
        "\\end{aligned}\n",
        "$$\n",
        "\n",
        "Per tant, sabem que $A = \\frac{N - C_0}{C_0}$"
      ],
      "metadata": {
        "id": "t5pRjrxMTR0n"
      }
    },
    {
      "cell_type": "markdown",
      "source": [
        "###2.6 ANÀLISI DIMENSIONAL\n",
        "\n",
        "$$\n",
        "\\begin{align}\n",
        "C(t)= \\frac{N}{1+A*e^{-N*k*t}}\n",
        "\\end{align}\n",
        "$$\n",
        "\n",
        "Així doncs, l'exponent de $e$ ha de ser adimensional, per tant:\n",
        "$$\n",
        "\\begin{align}\n",
        "[e^{-N*k*t}] = [1] → [N*k*t] = [1]\n",
        "\\end{align}\n",
        "$$\n",
        "També sabem que $A$ és adimensinonal ja que $A = [N-C_0] / [C_0]$ \\\\\n",
        "I sabem que $N$ té unitats de persones i $t$ de temps. \\\\\n",
        "Així doncs, les dimensions de $k$ han de ser $[\"persones^{-1}\" * T^{-1}]$ \\\\\n"
      ],
      "metadata": {
        "id": "jXckTFPmxOVK"
      }
    },
    {
      "cell_type": "markdown",
      "source": [
        "##**PREGUNTES**\n",
        "* En quin moment el 90% de la població coneixerà la informació?\n",
        "  - Això sabem que es complirà quan $C(t) = 0.9*N$"
      ],
      "metadata": {
        "id": "jHhGDUhLx7zY"
      }
    },
    {
      "cell_type": "code",
      "source": [
        "A = (N - C0) / C0\n",
        "C = N / (1 + A * sp.exp(-N * k * t))\n",
        "\n",
        "# Define the equation C(t) = 0.9N\n",
        "eq = sp.Eq(C, 0.9 * N)\n",
        "\n",
        "# Solve for t\n",
        "solution = sp.solve(eq, t)\n",
        "\n",
        "# Print the solution\n",
        "sp.pprint(solution)\n",
        "print(\"El moment en què el 90% de la població coneixerà la informació és en els següents instants:\")\n",
        "for sol in solution:\n",
        "    print(sol.evalf())"
      ],
      "metadata": {
        "id": "bv86CvXayT8X",
        "colab": {
          "base_uri": "https://localhost:8080/"
        },
        "outputId": "05f3b445-59ef-4689-b55c-99c01d23b9a3"
      },
      "execution_count": 44,
      "outputs": [
        {
          "output_type": "stream",
          "name": "stdout",
          "text": [
            "⎡   ⎛       9.0⋅N⎞⎤\n",
            "⎢log⎜-9.0 + ─────⎟⎥\n",
            "⎢   ⎝         C₀ ⎠⎥\n",
            "⎢─────────────────⎥\n",
            "⎣       N⋅k       ⎦\n",
            "El moment en què el 90% de la població coneixerà la informació és en els següents instants:\n",
            "log(-9.0 + 9.0*N/C0)/(N*k)\n"
          ]
        }
      ]
    },
    {
      "cell_type": "markdown",
      "source": [
        "* En quin moment la velocitat de difusió serà màxima?\n",
        "\n",
        "  * Sabem que el moment de difusió màxim serà quan $C'(t)$ sigui màxima, és a dir: $C''(t) = 0$"
      ],
      "metadata": {
        "id": "7Jq-rXb0OYhi"
      }
    },
    {
      "cell_type": "code",
      "source": [
        "# Define the first derivative of C(t) with respect to t\n",
        "C_prime = sp.diff(C, t)\n",
        "\n",
        "# Define the second derivative of C(t) with respect to t\n",
        "C_double_prime = sp.diff(C_prime, t)\n",
        "\n",
        "# Find the moment when the second derivative is maximum\n",
        "max_velocity_time = sp.solve(C_double_prime, t)\n",
        "\n",
        "# Print the solution\n",
        "sp.pprint(max_velocity_time)\n",
        "print(\"El moment en què la velocitat de difusió serà màxima és en els següents instants:\")\n",
        "for t_max in max_velocity_time:\n",
        "    print(t_max.evalf())\n"
      ],
      "metadata": {
        "colab": {
          "base_uri": "https://localhost:8080/"
        },
        "id": "c2GxkWH5OEcG",
        "outputId": "35357044-69ff-4e14-fd05-0785929e62a9"
      },
      "execution_count": 45,
      "outputs": [
        {
          "output_type": "stream",
          "name": "stdout",
          "text": [
            "⎡   ⎛-C₀ + N⎞⎤\n",
            "⎢log⎜───────⎟⎥\n",
            "⎢   ⎝   C₀  ⎠⎥\n",
            "⎢────────────⎥\n",
            "⎣    N⋅k     ⎦\n",
            "El moment en què la velocitat de difusió serà màxima és en els següents instants:\n",
            "log((-C0 + N)/C0)/(N*k)\n"
          ]
        }
      ]
    },
    {
      "cell_type": "markdown",
      "source": [
        "* Explica argumentadament com es podria modificar aquest model per estudiar la propagació d’una malaltia infecciosa.\n",
        "  *Podriem usar un model SIR, que és un dels models epidemiològics més usats. S(població susceptible), I(població infectada), R(població recuperada).\n",
        "  * El nombre de gent que coneix la informació podria ser el nombre d'infectats (i) el nombre de no coneixedors podrien ser els no infectats (S).\n",
        "  * Per completar el model, podriem tenir en compte el fet que la malaltia no és crònica i que la gent es pot recuperar o morir (R).\n",
        "  * Per tant, tindriem que: $N = I + R + S$"
      ],
      "metadata": {
        "id": "FpymDlQFRTs2"
      }
    }
  ]
}